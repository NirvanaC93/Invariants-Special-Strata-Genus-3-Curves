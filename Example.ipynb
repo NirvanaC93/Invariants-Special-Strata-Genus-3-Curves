{
 "cells": [
  {
   "cell_type": "markdown",
   "metadata": {},
   "source": [
    "## Reduction types of genus-3 curves in a special stratum of their moduli space\n",
    "### An implementation"
   ]
  },
  {
   "cell_type": "markdown",
   "metadata": {},
   "source": [
    "The current implementation gives a basic class to create curves in our family and do the computations related to the paper. "
   ]
  },
  {
   "cell_type": "code",
   "execution_count": 7,
   "metadata": {},
   "outputs": [],
   "source": [
    "load('main.sage')"
   ]
  },
  {
   "cell_type": "markdown",
   "metadata": {},
   "source": [
    "The input can be a list with 6 values (the coefficients $(A,B,C,a,b,c)$):"
   ]
  },
  {
   "cell_type": "code",
   "execution_count": 9,
   "metadata": {},
   "outputs": [
    {
     "data": {
      "text/plain": [
       "7*x^4 + x^2*y^2 + 7*y^4 + 7*x^2*z^2 + 7*y^2*z^2 + 7*z^4"
      ]
     },
     "execution_count": 9,
     "metadata": {},
     "output_type": "execute_result"
    }
   ],
   "source": [
    "C = OurCurves([7,7,7,7,7,1]); C"
   ]
  },
  {
   "cell_type": "markdown",
   "metadata": {},
   "source": [
    "Or a polynomial of the shape $Ax^4 + By^4 + Cz^4 + ay^2z^2 + bx^2z^2 + cx^2y^2$."
   ]
  },
  {
   "cell_type": "code",
   "execution_count": 11,
   "metadata": {},
   "outputs": [
    {
     "data": {
      "text/plain": [
       "7*x^4 + x^2*y^2 + 7*y^4 + 7*x^2*z^2 + 7*y^2*z^2 + 7*z^4"
      ]
     },
     "execution_count": 11,
     "metadata": {},
     "output_type": "execute_result"
    }
   ],
   "source": [
    "R.<x,y,z> = PolynomialRing(QQ)\n",
    "F = 7*x^4 + 7*y^4 + 7*z^4 + 7*y^2*z^2 + 7*x^2*z^2 + x^2*y^2\n",
    "C = OurCurves(F); C"
   ]
  },
  {
   "cell_type": "markdown",
   "metadata": {},
   "source": [
    "Then, one can check if a given curve is normalized, which means:\n",
    "> We say that a curve in this family is _normalized_ if the valuation of at least one of the elements in each set $\\{A, B, c\\}, \\{A, b, C\\}, \\{a, B, C\\}, \\{A, b, c\\}, \\{a, B, c\\}, \\{a, b, C\\}$ is zero while all the others are non-negative."
   ]
  },
  {
   "cell_type": "code",
   "execution_count": 12,
   "metadata": {},
   "outputs": [
    {
     "data": {
      "text/plain": [
       "False"
      ]
     },
     "execution_count": 12,
     "metadata": {},
     "output_type": "execute_result"
    }
   ],
   "source": [
    "C.is_normalized(7)"
   ]
  },
  {
   "cell_type": "markdown",
   "metadata": {},
   "source": [
    "It is also possible to compute a normalized model of the given curve."
   ]
  },
  {
   "cell_type": "code",
   "execution_count": 15,
   "metadata": {},
   "outputs": [
    {
     "name": "stdout",
     "output_type": "stream",
     "text": [
      "7*x^4 + x^2*y^2 + 7*y^4 + (m^2)*x^2*z^2 + (m^2)*y^2*z^2 + z^4\n"
     ]
    },
    {
     "data": {
      "text/plain": [
       "True"
      ]
     },
     "execution_count": 15,
     "metadata": {},
     "output_type": "execute_result"
    }
   ],
   "source": [
    "NC = C.normalized_model(7); print(NC)\n",
    "NC.is_normalized(7)"
   ]
  },
  {
   "cell_type": "markdown",
   "metadata": {},
   "source": [
    "And last but not least, we include an implementation of the classification of the reduction type. This can be computed for both normalized and non-normalized curves:"
   ]
  },
  {
   "cell_type": "code",
   "execution_count": 18,
   "metadata": {},
   "outputs": [
    {
     "name": "stdout",
     "output_type": "stream",
     "text": [
      "reduction type of C: 3.8 (f.iii) , reduction type of NC: 3.8 (f.iii)\n"
     ]
    }
   ],
   "source": [
    "print('reduction type of C:', C.reduction_type(7),', reduction type of NC:',  NC.reduction_type(7))"
   ]
  },
  {
   "cell_type": "markdown",
   "metadata": {},
   "source": [
    "### TODO\n",
    "- Change the information given by the reduction_type method to include the decorated graph label, the admissible cover level and possibly the invariants of the components with positive genus.\n",
    "- Do we want to plot the graphs too?\n",
    "- Create an exhaustive list of examples to check that the reduction_type method gives same results as the table."
   ]
  }
 ],
 "metadata": {
  "kernelspec": {
   "display_name": "SageMath 9.1.rc2",
   "language": "sage",
   "name": "sagemath"
  },
  "language_info": {
   "codemirror_mode": {
    "name": "ipython",
    "version": 3
   },
   "file_extension": ".py",
   "mimetype": "text/x-python",
   "name": "python",
   "nbconvert_exporter": "python",
   "pygments_lexer": "ipython3",
   "version": "3.7.3"
  }
 },
 "nbformat": 4,
 "nbformat_minor": 2
}
